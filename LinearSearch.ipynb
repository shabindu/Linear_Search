{
 "cells": [
  {
   "cell_type": "markdown",
   "metadata": {},
   "source": [
    "LINEAR SEARCH\n",
    "\n",
    "There are certain conditions that code should meet (below are the conditions)\n",
    "1. If the query number is repetative, than code should pick the firstly occured number.\n",
    "2. If the input list is empty than the code should return -1.\n",
    "3. If the query number/element present in the first/last location of input list also, code should detect the proper result\n"
   ]
  }
 ],
 "metadata": {
  "language_info": {
   "name": "python"
  },
  "orig_nbformat": 4
 },
 "nbformat": 4,
 "nbformat_minor": 2
}
